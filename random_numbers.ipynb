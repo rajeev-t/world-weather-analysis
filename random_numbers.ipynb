{
 "cells": [
  {
   "cell_type": "code",
   "execution_count": 19,
   "metadata": {},
   "outputs": [],
   "source": [
    "import random as rd"
   ]
  },
  {
   "cell_type": "code",
   "execution_count": 12,
   "metadata": {},
   "outputs": [
    {
     "data": {
      "text/plain": [
       "-17"
      ]
     },
     "execution_count": 12,
     "metadata": {},
     "output_type": "execute_result"
    }
   ],
   "source": [
    "# testing randint\n",
    "rd.randint(-90, 90)"
   ]
  },
  {
   "cell_type": "code",
   "execution_count": 13,
   "metadata": {},
   "outputs": [
    {
     "data": {
      "text/plain": [
       "0.9825003501053986"
      ]
     },
     "execution_count": 13,
     "metadata": {},
     "output_type": "execute_result"
    }
   ],
   "source": [
    "# testing random\n",
    "rd.random()"
   ]
  },
  {
   "cell_type": "code",
   "execution_count": 14,
   "metadata": {},
   "outputs": [
    {
     "data": {
      "text/plain": [
       "29.88596186456925"
      ]
     },
     "execution_count": 14,
     "metadata": {},
     "output_type": "execute_result"
    }
   ],
   "source": [
    "# combining randint and random\n",
    "random_num = rd.randint(-90, 89) + rd.random()\n",
    "random_num"
   ]
  },
  {
   "cell_type": "code",
   "execution_count": 26,
   "metadata": {},
   "outputs": [
    {
     "data": {
      "text/plain": [
       "[41.47736353673022,\n",
       " 82.31948033314421,\n",
       " 64.17438934649243,\n",
       " 53.37197838571401,\n",
       " -56.75029831117999,\n",
       " 78.43102584196777,\n",
       " 29.246935056838122,\n",
       " 65.59636075408748,\n",
       " -59.91377812173616,\n",
       " 19.01821836077048]"
      ]
     },
     "execution_count": 26,
     "metadata": {},
     "output_type": "execute_result"
    }
   ],
   "source": [
    "# algorithm to generate a latitude\n",
    "\n",
    "lats = []\n",
    "for i in range(1, 11, 1):\n",
    "    random_lat = rd.randint(-90, 89) + rd.random()\n",
    "    lats.append(random_lat)\n",
    "\n",
    "lats"
   ]
  },
  {
   "cell_type": "code",
   "execution_count": 16,
   "metadata": {},
   "outputs": [
    {
     "data": {
      "text/plain": [
       "-54"
      ]
     },
     "execution_count": 16,
     "metadata": {},
     "output_type": "execute_result"
    }
   ],
   "source": [
    "# testing randrange\n",
    "\n",
    "#rd.randrange(-90, 90)\n",
    "rd.randrange(-90, 90, 3)"
   ]
  },
  {
   "cell_type": "code",
   "execution_count": 17,
   "metadata": {},
   "outputs": [
    {
     "data": {
      "text/plain": [
       "-21.007801392538"
      ]
     },
     "execution_count": 17,
     "metadata": {},
     "output_type": "execute_result"
    }
   ],
   "source": [
    "# testing uniform\n",
    "rd.uniform(-90, 90)"
   ]
  },
  {
   "cell_type": "code",
   "execution_count": 18,
   "metadata": {},
   "outputs": [],
   "source": [
    "import numpy as np"
   ]
  },
  {
   "cell_type": "code",
   "execution_count": 22,
   "metadata": {},
   "outputs": [
    {
     "data": {
      "text/plain": [
       "89.83038844207096"
      ]
     },
     "execution_count": 22,
     "metadata": {},
     "output_type": "execute_result"
    }
   ],
   "source": [
    "# chaining numpy and random modules 1\n",
    "np.random.uniform(-90, 90)"
   ]
  },
  {
   "cell_type": "code",
   "execution_count": 23,
   "metadata": {},
   "outputs": [
    {
     "data": {
      "text/plain": [
       "array([-58.5936562 , -16.10683328, -13.53223944,  -2.24086033,\n",
       "        76.98555988,  79.07777463, -21.20293252,  35.84890497,\n",
       "        19.85172706,  81.13377132, -55.69357751,  64.10916922,\n",
       "       -26.5664365 , -36.33686343, -35.11578977,  87.65257647,\n",
       "        28.46864918, -12.1586959 ,  69.72996341, -73.2811787 ,\n",
       "        38.93084913, -82.31705471,  35.23561801, -82.92717866,\n",
       "       -58.98907269, -38.79513162,  43.04416219,  71.5007027 ,\n",
       "        66.62703264,  45.0590536 ,  31.53623994,  42.20668387,\n",
       "       -26.22048943, -83.91621047,  26.09751506, -35.54250822,\n",
       "        50.35548454,  11.68181287, -13.7069758 , -55.50750124,\n",
       "        84.2072637 ,  73.77169621, -39.37643592,  85.59125565,\n",
       "       -88.31670359, -33.87553624,  26.66775893, -70.05333232,\n",
       "        77.60107796,   8.35687412])"
      ]
     },
     "execution_count": 23,
     "metadata": {},
     "output_type": "execute_result"
    }
   ],
   "source": [
    "# chaining numpy and random modules 2\n",
    "np.random.uniform(-90, 90, 50)"
   ]
  },
  {
   "cell_type": "code",
   "execution_count": 24,
   "metadata": {},
   "outputs": [],
   "source": [
    "import timeit"
   ]
  },
  {
   "cell_type": "code",
   "execution_count": 28,
   "metadata": {},
   "outputs": [
    {
     "name": "stdout",
     "output_type": "stream",
     "text": [
      "12.2 µs ± 504 ns per loop (mean ± std. dev. of 7 runs, 100,000 loops each)\n"
     ]
    }
   ],
   "source": [
    "# timing the chained statement\n",
    "%timeit np.random.uniform(-90, 90 ,1500)"
   ]
  },
  {
   "cell_type": "code",
   "execution_count": 37,
   "metadata": {},
   "outputs": [
    {
     "name": "stdout",
     "output_type": "stream",
     "text": [
      "1.18 ms ± 20.2 µs per loop (mean ± std. dev. of 7 runs, 1,000 loops each)\n"
     ]
    }
   ],
   "source": [
    "# timing the algorithm\n",
    "def latitudes(size):\n",
    "    lats = []\n",
    "    x = 0\n",
    "    while x < (size):\n",
    "        random_lat = rd.randint(-90, 90) + rd.random()\n",
    "        lats.append(random_lat)\n",
    "        x += 1\n",
    "    return lats\n",
    "# Call the function with 1500.\n",
    "%timeit latitudes(1500)"
   ]
  },
  {
   "cell_type": "code",
   "execution_count": 38,
   "metadata": {},
   "outputs": [
    {
     "name": "stdout",
     "output_type": "stream",
     "text": [
      "1.07 ms ± 8.01 µs per loop (mean ± std. dev. of 7 runs, 1,000 loops each)\n"
     ]
    }
   ],
   "source": [
    "# refactoring and timing algorithm\n",
    "def latitudes(size):\n",
    "    lats = [rd.randint(-90, 90) + rd.random() for i in range(1, size, 1)]\n",
    "    return lats\n",
    "\n",
    "%timeit latitudes(1500)"
   ]
  }
 ],
 "metadata": {
  "kernelspec": {
   "display_name": "Python 3.8.13 ('PythonData')",
   "language": "python",
   "name": "python3"
  },
  "language_info": {
   "codemirror_mode": {
    "name": "ipython",
    "version": 3
   },
   "file_extension": ".py",
   "mimetype": "text/x-python",
   "name": "python",
   "nbconvert_exporter": "python",
   "pygments_lexer": "ipython3",
   "version": "3.8.13"
  },
  "orig_nbformat": 4,
  "vscode": {
   "interpreter": {
    "hash": "04b5fc8ddfff5b122425d51a06ea86a3d588ef10df821992eccb4fabc59a139e"
   }
  }
 },
 "nbformat": 4,
 "nbformat_minor": 2
}
